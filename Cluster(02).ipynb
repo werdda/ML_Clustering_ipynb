{
 "cells": [
  {
   "cell_type": "code",
   "execution_count": 1,
   "metadata": {},
   "outputs": [],
   "source": [
    "from pyspark.sql import SparkSession\n",
    "from pyspark.sql.functions import *\n",
    "from pyspark.ml.feature import StandardScaler, VectorAssembler\n",
    "from pyspark.ml.clustering import KMeans\n",
    "from pyspark.sql.types import IntegerType, TimestampType"
   ]
  },
  {
   "cell_type": "code",
   "execution_count": 2,
   "metadata": {},
   "outputs": [],
   "source": [
    "spark = SparkSession.builder.getOrCreate()"
   ]
  },
  {
   "cell_type": "code",
   "execution_count": 3,
   "metadata": {},
   "outputs": [],
   "source": [
    "df = spark.read.csv(\"Dataset.csv\", header=True, inferSchema=True)"
   ]
  },
  {
   "cell_type": "code",
   "execution_count": 4,
   "metadata": {},
   "outputs": [
    {
     "name": "stdout",
     "output_type": "stream",
     "text": [
      "+---+--------------------+--------+----------+-----+-------------+\n",
      "| id|         sugar_level|calories|    weight|  fat|   food_color|\n",
      "+---+--------------------+--------+----------+-----+-------------+\n",
      "|  1|145.7699999999999...| 764 cal|1745.73 gr|46 gr| Lemon Yellow|\n",
      "|  2|-4.60000000000000...| 262 cal|1903.09 gr|24 gr|    Navy Blue|\n",
      "|  3|            95.81 gr| 448 cal|1539.14 gr|27 gr|Sunset Yellow|\n",
      "|  4|           100.16 gr| 375 cal| 746.22 gr|11 gr|Sunset Yellow|\n",
      "|  5|-8.56000000000000...|  93 cal| 134.08 gr|26 gr|   Sunset Red|\n",
      "|  6|           140.24 gr| 651 cal|1989.74 gr|24 gr|       Purple|\n",
      "|  7|35.26000000000000...| 331 cal|1994.42 gr|32 gr|    Navy Blue|\n",
      "|  8|            35.47 gr| 245 cal| 438.82 gr|28 gr|        Green|\n",
      "|  9|59.76000000000000...| 771 cal|  31.05 gr|24 gr|       Coffee|\n",
      "| 10|-7.60999999999999...|  99 cal|  157.4 gr| 4 gr|       Purple|\n",
      "| 11|96.58000000000001 gr| 506 cal|  169.6 gr|26 gr|Sunset Yellow|\n",
      "| 12|5.180000000000007 gr| 459 cal| 169.26 gr|19 gr|   Sunset Red|\n",
      "| 13|100.4199999999999...| 346 cal|1296.55 gr|15 gr|        Black|\n",
      "| 14|116.7899999999999...| 436 cal|  539.3 gr|36 gr|Sunset Yellow|\n",
      "| 15|            86.53 gr| 312 cal|1122.68 gr|38 gr|        Green|\n",
      "| 16|           142.05 gr| 430 cal| 228.75 gr|36 gr| Lemon Yellow|\n",
      "| 17|97.00999999999999 gr| 262 cal| 245.93 gr|31 gr|         Rose|\n",
      "| 18|           150.36 gr| 384 cal|1414.85 gr|19 gr| Lemon Yellow|\n",
      "| 19|            137.2 gr| 679 cal|1127.89 gr|44 gr|        Green|\n",
      "| 20|99.47999999999999 gr| 361 cal| 316.95 gr| 2 gr|        Green|\n",
      "+---+--------------------+--------+----------+-----+-------------+\n",
      "only showing top 20 rows\n",
      "\n"
     ]
    }
   ],
   "source": [
    "df.show()"
   ]
  },
  {
   "cell_type": "code",
   "execution_count": 5,
   "metadata": {},
   "outputs": [],
   "source": [
    "df = df.select(\"sugar_level\", \"calories\", \"fat\", \"food_color\")"
   ]
  },
  {
   "cell_type": "code",
   "execution_count": 6,
   "metadata": {},
   "outputs": [
    {
     "name": "stdout",
     "output_type": "stream",
     "text": [
      "+--------------------+--------+-----+-------------+\n",
      "|         sugar_level|calories|  fat|   food_color|\n",
      "+--------------------+--------+-----+-------------+\n",
      "|145.7699999999999...| 764 cal|46 gr| Lemon Yellow|\n",
      "|-4.60000000000000...| 262 cal|24 gr|    Navy Blue|\n",
      "|            95.81 gr| 448 cal|27 gr|Sunset Yellow|\n",
      "|           100.16 gr| 375 cal|11 gr|Sunset Yellow|\n",
      "|-8.56000000000000...|  93 cal|26 gr|   Sunset Red|\n",
      "|           140.24 gr| 651 cal|24 gr|       Purple|\n",
      "|35.26000000000000...| 331 cal|32 gr|    Navy Blue|\n",
      "|            35.47 gr| 245 cal|28 gr|        Green|\n",
      "|59.76000000000000...| 771 cal|24 gr|       Coffee|\n",
      "|-7.60999999999999...|  99 cal| 4 gr|       Purple|\n",
      "|96.58000000000001 gr| 506 cal|26 gr|Sunset Yellow|\n",
      "|5.180000000000007 gr| 459 cal|19 gr|   Sunset Red|\n",
      "|100.4199999999999...| 346 cal|15 gr|        Black|\n",
      "|116.7899999999999...| 436 cal|36 gr|Sunset Yellow|\n",
      "|            86.53 gr| 312 cal|38 gr|        Green|\n",
      "|           142.05 gr| 430 cal|36 gr| Lemon Yellow|\n",
      "|97.00999999999999 gr| 262 cal|31 gr|         Rose|\n",
      "|           150.36 gr| 384 cal|19 gr| Lemon Yellow|\n",
      "|            137.2 gr| 679 cal|44 gr|        Green|\n",
      "|99.47999999999999 gr| 361 cal| 2 gr|        Green|\n",
      "+--------------------+--------+-----+-------------+\n",
      "only showing top 20 rows\n",
      "\n"
     ]
    }
   ],
   "source": [
    "df.show()"
   ]
  },
  {
   "cell_type": "code",
   "execution_count": 7,
   "metadata": {},
   "outputs": [],
   "source": [
    "df = df.withColumn(\"sugar_level\", regexp_replace(\"sugar_level\", \"gr\", \"\"))\n",
    "df = df.withColumn(\"calories\", regexp_replace(\"calories\", \"cal\", \"\"))\n",
    "df = df.withColumn(\"fat\", regexp_replace(\"fat\", \"gr\", \"\"))"
   ]
  },
  {
   "cell_type": "code",
   "execution_count": 8,
   "metadata": {},
   "outputs": [
    {
     "name": "stdout",
     "output_type": "stream",
     "text": [
      "+--------------------+--------+---+-------------+\n",
      "|         sugar_level|calories|fat|   food_color|\n",
      "+--------------------+--------+---+-------------+\n",
      "| 145.76999999999998 |    764 |46 | Lemon Yellow|\n",
      "|-4.6000000000000085 |    262 |24 |    Navy Blue|\n",
      "|              95.81 |    448 |27 |Sunset Yellow|\n",
      "|             100.16 |    375 |11 |Sunset Yellow|\n",
      "| -8.560000000000002 |     93 |26 |   Sunset Red|\n",
      "|             140.24 |    651 |24 |       Purple|\n",
      "| 35.260000000000005 |    331 |32 |    Navy Blue|\n",
      "|              35.47 |    245 |28 |        Green|\n",
      "| 59.760000000000005 |    771 |24 |       Coffee|\n",
      "| -7.609999999999999 |     99 | 4 |       Purple|\n",
      "|  96.58000000000001 |    506 |26 |Sunset Yellow|\n",
      "|  5.180000000000007 |    459 |19 |   Sunset Red|\n",
      "| 100.41999999999999 |    346 |15 |        Black|\n",
      "| 116.78999999999999 |    436 |36 |Sunset Yellow|\n",
      "|              86.53 |    312 |38 |        Green|\n",
      "|             142.05 |    430 |36 | Lemon Yellow|\n",
      "|  97.00999999999999 |    262 |31 |         Rose|\n",
      "|             150.36 |    384 |19 | Lemon Yellow|\n",
      "|              137.2 |    679 |44 |        Green|\n",
      "|  99.47999999999999 |    361 | 2 |        Green|\n",
      "+--------------------+--------+---+-------------+\n",
      "only showing top 20 rows\n",
      "\n"
     ]
    }
   ],
   "source": [
    "df.show()"
   ]
  },
  {
   "cell_type": "code",
   "execution_count": 9,
   "metadata": {},
   "outputs": [],
   "source": [
    "df = df.withColumn(\"food_color\", \n",
    "                               when(df[\"food_color\"] == \"Black\", 0).\n",
    "                               when(df[\"food_color\"] == \"Coffee\", 1).\n",
    "                               when(df[\"food_color\"] == \"Grass Green\", 2).\n",
    "                               when(df[\"food_color\"] == \"Green\", 3).\n",
    "                               when(df[\"food_color\"] == \"Lemon Yellow\", 4).\n",
    "                               when(df[\"food_color\"] == \"Navy Blue\", 5).\n",
    "                               when(df[\"food_color\"] == \"Purple\", 6).\n",
    "                               when(df[\"food_color\"] == \"Rose\", 7).\n",
    "                               when(df[\"food_color\"] == \"Sunset Red\", 8).\n",
    "                               when(df[\"food_color\"] == \"Sunset Yellow\", 9)\n",
    "                              )"
   ]
  },
  {
   "cell_type": "code",
   "execution_count": 10,
   "metadata": {},
   "outputs": [
    {
     "name": "stdout",
     "output_type": "stream",
     "text": [
      "+--------------------+--------+---+----------+\n",
      "|         sugar_level|calories|fat|food_color|\n",
      "+--------------------+--------+---+----------+\n",
      "| 145.76999999999998 |    764 |46 |         4|\n",
      "|-4.6000000000000085 |    262 |24 |         5|\n",
      "|              95.81 |    448 |27 |         9|\n",
      "|             100.16 |    375 |11 |         9|\n",
      "| -8.560000000000002 |     93 |26 |         8|\n",
      "|             140.24 |    651 |24 |         6|\n",
      "| 35.260000000000005 |    331 |32 |         5|\n",
      "|              35.47 |    245 |28 |         3|\n",
      "| 59.760000000000005 |    771 |24 |         1|\n",
      "| -7.609999999999999 |     99 | 4 |         6|\n",
      "|  96.58000000000001 |    506 |26 |         9|\n",
      "|  5.180000000000007 |    459 |19 |         8|\n",
      "| 100.41999999999999 |    346 |15 |         0|\n",
      "| 116.78999999999999 |    436 |36 |         9|\n",
      "|              86.53 |    312 |38 |         3|\n",
      "|             142.05 |    430 |36 |         4|\n",
      "|  97.00999999999999 |    262 |31 |         7|\n",
      "|             150.36 |    384 |19 |         4|\n",
      "|              137.2 |    679 |44 |         3|\n",
      "|  99.47999999999999 |    361 | 2 |         3|\n",
      "+--------------------+--------+---+----------+\n",
      "only showing top 20 rows\n",
      "\n"
     ]
    }
   ],
   "source": [
    "df.show()"
   ]
  },
  {
   "cell_type": "code",
   "execution_count": 11,
   "metadata": {},
   "outputs": [],
   "source": [
    "df = df.withColumn(\"sugar_level\", regexp_replace(\"sugar_level\", \" \", \"\"))\n",
    "df = df.withColumn(\"calories\", regexp_replace(\"calories\", \" \", \"\"))\n",
    "df = df.withColumn(\"fat\", regexp_replace(\"fat\", \" \", \"\"))"
   ]
  },
  {
   "cell_type": "code",
   "execution_count": 12,
   "metadata": {},
   "outputs": [],
   "source": [
    "df = df.withColumn(\"sugar_level\", df[\"sugar_level\"].cast(IntegerType()))\n",
    "df = df.withColumn(\"calories\", df[\"calories\"].cast(IntegerType()))\n",
    "df = df.withColumn(\"fat\", df[\"fat\"].cast(IntegerType()))"
   ]
  },
  {
   "cell_type": "code",
   "execution_count": 13,
   "metadata": {},
   "outputs": [],
   "source": [
    "df = df.dropna()"
   ]
  },
  {
   "cell_type": "code",
   "execution_count": 14,
   "metadata": {},
   "outputs": [],
   "source": [
    "cols = df.columns\n",
    "\n",
    "df = VectorAssembler(inputCols=cols, outputCol=\"FeaturesVector\").transform(df)\n",
    "\n"
   ]
  },
  {
   "cell_type": "code",
   "execution_count": 15,
   "metadata": {},
   "outputs": [],
   "source": [
    "df = StandardScaler(inputCol=\"FeaturesVector\", outputCol=\"features\").fit(df).transform(df)"
   ]
  },
  {
   "cell_type": "code",
   "execution_count": 16,
   "metadata": {},
   "outputs": [],
   "source": [
    "kmeans = KMeans().setK(2)\n",
    "model = kmeans.fit(df).transform(df)"
   ]
  },
  {
   "cell_type": "code",
   "execution_count": 17,
   "metadata": {},
   "outputs": [
    {
     "name": "stdout",
     "output_type": "stream",
     "text": [
      "+-----------+--------+---+----------+--------------------+--------------------+----------+\n",
      "|sugar_level|calories|fat|food_color|      FeaturesVector|            features|prediction|\n",
      "+-----------+--------+---+----------+--------------------+--------------------+----------+\n",
      "|        145|     764| 46|         4|[145.0,764.0,46.0...|[3.07634519530285...|         0|\n",
      "|         -4|     262| 24|         5|[-4.0,262.0,24.0,...|[-0.0848646950428...|         1|\n",
      "|         95|     448| 27|         9|[95.0,448.0,27.0,...|[2.01553650726738...|         0|\n",
      "|        100|     375| 11|         9|[100.0,375.0,11.0...|[2.12161737607093...|         1|\n",
      "|         -8|      93| 26|         8|[-8.0,93.0,26.0,8.0]|[-0.1697293900856...|         1|\n",
      "|        140|     651| 24|         6|[140.0,651.0,24.0...|[2.97026432649930...|         0|\n",
      "|         35|     331| 32|         5|[35.0,331.0,32.0,...|[0.74256608162482...|         1|\n",
      "|         35|     245| 28|         3|[35.0,245.0,28.0,...|[0.74256608162482...|         1|\n",
      "|         59|     771| 24|         1|[59.0,771.0,24.0,...|[1.25175425188185...|         0|\n",
      "|         -7|      99|  4|         6| [-7.0,99.0,4.0,6.0]|[-0.1485132163249...|         1|\n",
      "|         96|     506| 26|         9|[96.0,506.0,26.0,...|[2.03675268102809...|         0|\n",
      "|          5|     459| 19|         8|[5.0,459.0,19.0,8.0]|[0.10608086880354...|         1|\n",
      "|        100|     346| 15|         0|[100.0,346.0,15.0...|[2.12161737607093...|         1|\n",
      "|        116|     436| 36|         9|[116.0,436.0,36.0...|[2.46107615624228...|         0|\n",
      "|         86|     312| 38|         3|[86.0,312.0,38.0,...|[1.82459094342100...|         0|\n",
      "|        142|     430| 36|         4|[142.0,430.0,36.0...|[3.01269667402072...|         0|\n",
      "|         97|     262| 31|         7|[97.0,262.0,31.0,...|[2.05796885478880...|         0|\n",
      "|        150|     384| 19|         4|[150.0,384.0,19.0...|[3.18242606410640...|         0|\n",
      "|        137|     679| 44|         3|[137.0,679.0,44.0...|[2.90661580521718...|         0|\n",
      "|         99|     361|  2|         3|[99.0,361.0,2.0,3.0]|[2.10040120231022...|         1|\n",
      "+-----------+--------+---+----------+--------------------+--------------------+----------+\n",
      "only showing top 20 rows\n",
      "\n"
     ]
    }
   ],
   "source": [
    "model.show()"
   ]
  },
  {
   "cell_type": "code",
   "execution_count": 18,
   "metadata": {},
   "outputs": [],
   "source": [
    "import matplotlib.pyplot as plt"
   ]
  },
  {
   "cell_type": "code",
   "execution_count": 19,
   "metadata": {},
   "outputs": [],
   "source": [
    "pandas = model.toPandas()"
   ]
  },
  {
   "cell_type": "code",
   "execution_count": 22,
   "metadata": {},
   "outputs": [
    {
     "data": {
      "image/png": "[encoded data removed]",
      "text/plain": [
       "<Figure size 432x288 with 1 Axes>"
      ]
     },
     "metadata": {
      "needs_background": "light"
     },
     "output_type": "display_data"
    }
   ],
   "source": [
    "plt.title(\"sugar level vs fat\")\n",
    "plt.scatter(pandas[\"sugar_level\"], pandas[\"fat\"], c=pandas[\"prediction\"])\n",
    "plt.xlabel(\"sugar level\")\n",
    "plt.ylabel(\"fat\")\n",
    "\n",
    "plt.show()"
   ]
  }
 ],
 "metadata": {
  "kernelspec": {
   "display_name": "Python 3",
   "language": "python",
   "name": "python3"
  },
  "language_info": {
   "codemirror_mode": {
    "name": "ipython",
    "version": 3
   },
   "file_extension": ".py",
   "mimetype": "text/x-python",
   "name": "python",
   "nbconvert_exporter": "python",
   "pygments_lexer": "ipython3",
   "version": "3.7.4"
  }
 },
 "nbformat": 4,
 "nbformat_minor": 2
}
