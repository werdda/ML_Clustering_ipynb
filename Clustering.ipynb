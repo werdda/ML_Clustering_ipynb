{
 "cells": [
  {
   "cell_type": "code",
   "execution_count": 1,
   "metadata": {},
   "outputs": [],
   "source": [
    "from pyspark.sql import SparkSession\n",
    "from pyspark.sql.functions import *\n",
    "from pyspark.ml.feature import VectorAssembler, StandardScaler\n",
    "from pyspark.ml.clustering import KMeans\n",
    "from pyspark.sql.types import StringType, IntegerType"
   ]
  },
  {
   "cell_type": "code",
   "execution_count": 2,
   "metadata": {},
   "outputs": [],
   "source": [
    "spark = SparkSession.builder.getOrCreate()"
   ]
  },
  {
   "cell_type": "code",
   "execution_count": 3,
   "metadata": {},
   "outputs": [],
   "source": [
    "dataset = spark.read.csv(\"Dataset.csv\", header=True, inferSchema=True)"
   ]
  },
  {
   "cell_type": "code",
   "execution_count": 4,
   "metadata": {},
   "outputs": [
    {
     "name": "stdout",
     "output_type": "stream",
     "text": [
      "+---+--------------------+--------+----------+-----+-------------+\n",
      "| id|         sugar_level|calories|    weight|  fat|   food_color|\n",
      "+---+--------------------+--------+----------+-----+-------------+\n",
      "|  1|145.7699999999999...| 764 cal|1745.73 gr|46 gr| Lemon Yellow|\n",
      "|  2|-4.60000000000000...| 262 cal|1903.09 gr|24 gr|    Navy Blue|\n",
      "|  3|            95.81 gr| 448 cal|1539.14 gr|27 gr|Sunset Yellow|\n",
      "|  4|           100.16 gr| 375 cal| 746.22 gr|11 gr|Sunset Yellow|\n",
      "|  5|-8.56000000000000...|  93 cal| 134.08 gr|26 gr|   Sunset Red|\n",
      "|  6|           140.24 gr| 651 cal|1989.74 gr|24 gr|       Purple|\n",
      "|  7|35.26000000000000...| 331 cal|1994.42 gr|32 gr|    Navy Blue|\n",
      "|  8|            35.47 gr| 245 cal| 438.82 gr|28 gr|        Green|\n",
      "|  9|59.76000000000000...| 771 cal|  31.05 gr|24 gr|       Coffee|\n",
      "| 10|-7.60999999999999...|  99 cal|  157.4 gr| 4 gr|       Purple|\n",
      "| 11|96.58000000000001 gr| 506 cal|  169.6 gr|26 gr|Sunset Yellow|\n",
      "| 12|5.180000000000007 gr| 459 cal| 169.26 gr|19 gr|   Sunset Red|\n",
      "| 13|100.4199999999999...| 346 cal|1296.55 gr|15 gr|        Black|\n",
      "| 14|116.7899999999999...| 436 cal|  539.3 gr|36 gr|Sunset Yellow|\n",
      "| 15|            86.53 gr| 312 cal|1122.68 gr|38 gr|        Green|\n",
      "| 16|           142.05 gr| 430 cal| 228.75 gr|36 gr| Lemon Yellow|\n",
      "| 17|97.00999999999999 gr| 262 cal| 245.93 gr|31 gr|         Rose|\n",
      "| 18|           150.36 gr| 384 cal|1414.85 gr|19 gr| Lemon Yellow|\n",
      "| 19|            137.2 gr| 679 cal|1127.89 gr|44 gr|        Green|\n",
      "| 20|99.47999999999999 gr| 361 cal| 316.95 gr| 2 gr|        Green|\n",
      "+---+--------------------+--------+----------+-----+-------------+\n",
      "only showing top 20 rows\n",
      "\n"
     ]
    }
   ],
   "source": [
    "dataset.show()"
   ]
  },
  {
   "cell_type": "code",
   "execution_count": 5,
   "metadata": {},
   "outputs": [],
   "source": [
    "df_train = dataset.select(\"sugar_level\", \"calories\", \"weight\", \"fat\", \"food_color\")"
   ]
  },
  {
   "cell_type": "code",
   "execution_count": 6,
   "metadata": {},
   "outputs": [
    {
     "name": "stdout",
     "output_type": "stream",
     "text": [
      "+--------------------+--------+----------+-----+-------------+\n",
      "|         sugar_level|calories|    weight|  fat|   food_color|\n",
      "+--------------------+--------+----------+-----+-------------+\n",
      "|145.7699999999999...| 764 cal|1745.73 gr|46 gr| Lemon Yellow|\n",
      "|-4.60000000000000...| 262 cal|1903.09 gr|24 gr|    Navy Blue|\n",
      "|            95.81 gr| 448 cal|1539.14 gr|27 gr|Sunset Yellow|\n",
      "|           100.16 gr| 375 cal| 746.22 gr|11 gr|Sunset Yellow|\n",
      "|-8.56000000000000...|  93 cal| 134.08 gr|26 gr|   Sunset Red|\n",
      "|           140.24 gr| 651 cal|1989.74 gr|24 gr|       Purple|\n",
      "|35.26000000000000...| 331 cal|1994.42 gr|32 gr|    Navy Blue|\n",
      "|            35.47 gr| 245 cal| 438.82 gr|28 gr|        Green|\n",
      "|59.76000000000000...| 771 cal|  31.05 gr|24 gr|       Coffee|\n",
      "|-7.60999999999999...|  99 cal|  157.4 gr| 4 gr|       Purple|\n",
      "|96.58000000000001 gr| 506 cal|  169.6 gr|26 gr|Sunset Yellow|\n",
      "|5.180000000000007 gr| 459 cal| 169.26 gr|19 gr|   Sunset Red|\n",
      "|100.4199999999999...| 346 cal|1296.55 gr|15 gr|        Black|\n",
      "|116.7899999999999...| 436 cal|  539.3 gr|36 gr|Sunset Yellow|\n",
      "|            86.53 gr| 312 cal|1122.68 gr|38 gr|        Green|\n",
      "|           142.05 gr| 430 cal| 228.75 gr|36 gr| Lemon Yellow|\n",
      "|97.00999999999999 gr| 262 cal| 245.93 gr|31 gr|         Rose|\n",
      "|           150.36 gr| 384 cal|1414.85 gr|19 gr| Lemon Yellow|\n",
      "|            137.2 gr| 679 cal|1127.89 gr|44 gr|        Green|\n",
      "|99.47999999999999 gr| 361 cal| 316.95 gr| 2 gr|        Green|\n",
      "+--------------------+--------+----------+-----+-------------+\n",
      "only showing top 20 rows\n",
      "\n"
     ]
    }
   ],
   "source": [
    "df_train.show()"
   ]
  },
  {
   "cell_type": "code",
   "execution_count": 7,
   "metadata": {},
   "outputs": [],
   "source": [
    "df_train = df_train.dropna()"
   ]
  },
  {
   "cell_type": "code",
   "execution_count": 8,
   "metadata": {},
   "outputs": [],
   "source": [
    "df_train = df_train.withColumn(\"food_color\", \n",
    "                               when(df_train[\"food_color\"] == \"Black\", 0).\n",
    "                               when(df_train[\"food_color\"] == \"Coffee\", 1).\n",
    "                               when(df_train[\"food_color\"] == \"Grass Green\", 2).\n",
    "                               when(df_train[\"food_color\"] == \"Green\", 3).\n",
    "                               when(df_train[\"food_color\"] == \"Lemon Yellow\", 4).\n",
    "                               when(df_train[\"food_color\"] == \"Navy Blue\", 5).\n",
    "                               when(df_train[\"food_color\"] == \"Purple\", 6).\n",
    "                               when(df_train[\"food_color\"] == \"Rose\", 7).\n",
    "                               when(df_train[\"food_color\"] == \"Sunset Red\", 8).\n",
    "                               when(df_train[\"food_color\"] == \"Sunset Yellow\", 9)\n",
    "                              )"
   ]
  },
  {
   "cell_type": "code",
   "execution_count": 9,
   "metadata": {},
   "outputs": [],
   "source": [
    "df_train = df_train.withColumn(\"calories\", regexp_replace(\"calories\", \"cal\", \"\"))\n",
    "df_train = df_train.withColumn(\"sugar_level\", regexp_replace(\"sugar_level\", \"gr\", \"\"))\n",
    "df_train = df_train.withColumn(\"weight\", regexp_replace(\"weight\", \"gr\", \"\"))\n",
    "df_train = df_train.withColumn(\"fat\", regexp_replace(\"fat\", \"gr\", \"\"))"
   ]
  },
  {
   "cell_type": "code",
   "execution_count": 10,
   "metadata": {},
   "outputs": [
    {
     "name": "stdout",
     "output_type": "stream",
     "text": [
      "+--------------------+--------+--------+---+----------+\n",
      "|         sugar_level|calories|  weight|fat|food_color|\n",
      "+--------------------+--------+--------+---+----------+\n",
      "| 145.76999999999998 |    764 |1745.73 |46 |         4|\n",
      "|-4.6000000000000085 |    262 |1903.09 |24 |         5|\n",
      "|              95.81 |    448 |1539.14 |27 |         9|\n",
      "|             100.16 |    375 | 746.22 |11 |         9|\n",
      "| -8.560000000000002 |     93 | 134.08 |26 |         8|\n",
      "|             140.24 |    651 |1989.74 |24 |         6|\n",
      "| 35.260000000000005 |    331 |1994.42 |32 |         5|\n",
      "|              35.47 |    245 | 438.82 |28 |         3|\n",
      "| 59.760000000000005 |    771 |  31.05 |24 |         1|\n",
      "| -7.609999999999999 |     99 |  157.4 | 4 |         6|\n",
      "|  96.58000000000001 |    506 |  169.6 |26 |         9|\n",
      "|  5.180000000000007 |    459 | 169.26 |19 |         8|\n",
      "| 100.41999999999999 |    346 |1296.55 |15 |         0|\n",
      "| 116.78999999999999 |    436 |  539.3 |36 |         9|\n",
      "|              86.53 |    312 |1122.68 |38 |         3|\n",
      "|             142.05 |    430 | 228.75 |36 |         4|\n",
      "|  97.00999999999999 |    262 | 245.93 |31 |         7|\n",
      "|             150.36 |    384 |1414.85 |19 |         4|\n",
      "|              137.2 |    679 |1127.89 |44 |         3|\n",
      "|  99.47999999999999 |    361 | 316.95 | 2 |         3|\n",
      "+--------------------+--------+--------+---+----------+\n",
      "only showing top 20 rows\n",
      "\n"
     ]
    }
   ],
   "source": [
    "df_train.show()"
   ]
  },
  {
   "cell_type": "code",
   "execution_count": 11,
   "metadata": {},
   "outputs": [],
   "source": [
    "df_train = df_train.withColumn(\"calories\", regexp_replace(\"calories\", \" \", \"\"))\n",
    "df_train = df_train.withColumn(\"sugar_level\", regexp_replace(\"sugar_level\", \" \", \"\"))\n",
    "df_train = df_train.withColumn(\"weight\", regexp_replace(\"weight\", \" \", \"\"))\n",
    "df_train = df_train.withColumn(\"fat\", regexp_replace(\"fat\", \" \", \"\"))"
   ]
  },
  {
   "cell_type": "code",
   "execution_count": 12,
   "metadata": {},
   "outputs": [
    {
     "name": "stdout",
     "output_type": "stream",
     "text": [
      "+-------------------+--------+-------+---+----------+\n",
      "|        sugar_level|calories| weight|fat|food_color|\n",
      "+-------------------+--------+-------+---+----------+\n",
      "| 145.76999999999998|     764|1745.73| 46|         4|\n",
      "|-4.6000000000000085|     262|1903.09| 24|         5|\n",
      "|              95.81|     448|1539.14| 27|         9|\n",
      "|             100.16|     375| 746.22| 11|         9|\n",
      "| -8.560000000000002|      93| 134.08| 26|         8|\n",
      "|             140.24|     651|1989.74| 24|         6|\n",
      "| 35.260000000000005|     331|1994.42| 32|         5|\n",
      "|              35.47|     245| 438.82| 28|         3|\n",
      "| 59.760000000000005|     771|  31.05| 24|         1|\n",
      "| -7.609999999999999|      99|  157.4|  4|         6|\n",
      "|  96.58000000000001|     506|  169.6| 26|         9|\n",
      "|  5.180000000000007|     459| 169.26| 19|         8|\n",
      "| 100.41999999999999|     346|1296.55| 15|         0|\n",
      "| 116.78999999999999|     436|  539.3| 36|         9|\n",
      "|              86.53|     312|1122.68| 38|         3|\n",
      "|             142.05|     430| 228.75| 36|         4|\n",
      "|  97.00999999999999|     262| 245.93| 31|         7|\n",
      "|             150.36|     384|1414.85| 19|         4|\n",
      "|              137.2|     679|1127.89| 44|         3|\n",
      "|  99.47999999999999|     361| 316.95|  2|         3|\n",
      "+-------------------+--------+-------+---+----------+\n",
      "only showing top 20 rows\n",
      "\n"
     ]
    }
   ],
   "source": [
    "df_train.show()"
   ]
  },
  {
   "cell_type": "code",
   "execution_count": 16,
   "metadata": {},
   "outputs": [],
   "source": [
    "df_train = df_train.withColumn(\"calories\", df_train[\"calories\"].cast(IntegerType()))\n",
    "df_train = df_train.withColumn(\"sugar_level\", df_train[\"sugar_level\"].cast(IntegerType()))\n",
    "df_train = df_train.withColumn(\"weight\", df_train[\"weight\"].cast(IntegerType()))\n",
    "df_train = df_train.withColumn(\"fat\", df_train[\"fat\"].cast(IntegerType()))"
   ]
  },
  {
   "cell_type": "code",
   "execution_count": 17,
   "metadata": {},
   "outputs": [
    {
     "name": "stdout",
     "output_type": "stream",
     "text": [
      "+-----------+--------+------+---+----------+\n",
      "|sugar_level|calories|weight|fat|food_color|\n",
      "+-----------+--------+------+---+----------+\n",
      "|        145|     764|  1745| 46|         4|\n",
      "|         -4|     262|  1903| 24|         5|\n",
      "|         95|     448|  1539| 27|         9|\n",
      "|        100|     375|   746| 11|         9|\n",
      "|         -8|      93|   134| 26|         8|\n",
      "|        140|     651|  1989| 24|         6|\n",
      "|         35|     331|  1994| 32|         5|\n",
      "|         35|     245|   438| 28|         3|\n",
      "|         59|     771|    31| 24|         1|\n",
      "|         -7|      99|   157|  4|         6|\n",
      "|         96|     506|   169| 26|         9|\n",
      "|          5|     459|   169| 19|         8|\n",
      "|        100|     346|  1296| 15|         0|\n",
      "|        116|     436|   539| 36|         9|\n",
      "|         86|     312|  1122| 38|         3|\n",
      "|        142|     430|   228| 36|         4|\n",
      "|         97|     262|   245| 31|         7|\n",
      "|        150|     384|  1414| 19|         4|\n",
      "|        137|     679|  1127| 44|         3|\n",
      "|         99|     361|   316|  2|         3|\n",
      "+-----------+--------+------+---+----------+\n",
      "only showing top 20 rows\n",
      "\n"
     ]
    }
   ],
   "source": [
    "df_train.show()"
   ]
  },
  {
   "cell_type": "code",
   "execution_count": 18,
   "metadata": {},
   "outputs": [
    {
     "data": {
      "text/plain": [
       "[('sugar_level', 'int'),\n",
       " ('calories', 'int'),\n",
       " ('weight', 'int'),\n",
       " ('fat', 'int'),\n",
       " ('food_color', 'int')]"
      ]
     },
     "execution_count": 18,
     "metadata": {},
     "output_type": "execute_result"
    }
   ],
   "source": [
    "df_train.dtypes"
   ]
  },
  {
   "cell_type": "code",
   "execution_count": 20,
   "metadata": {},
   "outputs": [],
   "source": [
    "cols = df_train.columns\n",
    "\n",
    "df_train = VectorAssembler(inputCols=cols, outputCol=\"FeaturesVector\").transform(df_train)"
   ]
  },
  {
   "cell_type": "code",
   "execution_count": 21,
   "metadata": {},
   "outputs": [
    {
     "name": "stdout",
     "output_type": "stream",
     "text": [
      "+-----------+--------+------+---+----------+--------------------+\n",
      "|sugar_level|calories|weight|fat|food_color|      FeaturesVector|\n",
      "+-----------+--------+------+---+----------+--------------------+\n",
      "|        145|     764|  1745| 46|         4|[145.0,764.0,1745...|\n",
      "|         -4|     262|  1903| 24|         5|[-4.0,262.0,1903....|\n",
      "|         95|     448|  1539| 27|         9|[95.0,448.0,1539....|\n",
      "|        100|     375|   746| 11|         9|[100.0,375.0,746....|\n",
      "|         -8|      93|   134| 26|         8|[-8.0,93.0,134.0,...|\n",
      "|        140|     651|  1989| 24|         6|[140.0,651.0,1989...|\n",
      "|         35|     331|  1994| 32|         5|[35.0,331.0,1994....|\n",
      "|         35|     245|   438| 28|         3|[35.0,245.0,438.0...|\n",
      "|         59|     771|    31| 24|         1|[59.0,771.0,31.0,...|\n",
      "|         -7|      99|   157|  4|         6|[-7.0,99.0,157.0,...|\n",
      "|         96|     506|   169| 26|         9|[96.0,506.0,169.0...|\n",
      "|          5|     459|   169| 19|         8|[5.0,459.0,169.0,...|\n",
      "|        100|     346|  1296| 15|         0|[100.0,346.0,1296...|\n",
      "|        116|     436|   539| 36|         9|[116.0,436.0,539....|\n",
      "|         86|     312|  1122| 38|         3|[86.0,312.0,1122....|\n",
      "|        142|     430|   228| 36|         4|[142.0,430.0,228....|\n",
      "|         97|     262|   245| 31|         7|[97.0,262.0,245.0...|\n",
      "|        150|     384|  1414| 19|         4|[150.0,384.0,1414...|\n",
      "|        137|     679|  1127| 44|         3|[137.0,679.0,1127...|\n",
      "|         99|     361|   316|  2|         3|[99.0,361.0,316.0...|\n",
      "+-----------+--------+------+---+----------+--------------------+\n",
      "only showing top 20 rows\n",
      "\n"
     ]
    }
   ],
   "source": [
    "df_train.show()"
   ]
  },
  {
   "cell_type": "code",
   "execution_count": 22,
   "metadata": {},
   "outputs": [],
   "source": [
    "df_train = StandardScaler(inputCol=\"FeaturesVector\", outputCol=\"features\").fit(df_train).transform(df_train)"
   ]
  },
  {
   "cell_type": "code",
   "execution_count": 23,
   "metadata": {},
   "outputs": [
    {
     "name": "stdout",
     "output_type": "stream",
     "text": [
      "+-----------+--------+------+---+----------+--------------------+--------------------+\n",
      "|sugar_level|calories|weight|fat|food_color|      FeaturesVector|            features|\n",
      "+-----------+--------+------+---+----------+--------------------+--------------------+\n",
      "|        145|     764|  1745| 46|         4|[145.0,764.0,1745...|[3.07522237130499...|\n",
      "|         -4|     262|  1903| 24|         5|[-4.0,262.0,1903....|[-0.0848337205877...|\n",
      "|         95|     448|  1539| 27|         9|[95.0,448.0,1539....|[2.01480086395844...|\n",
      "|        100|     375|   746| 11|         9|[100.0,375.0,746....|[2.12084301469309...|\n",
      "|         -8|      93|   134| 26|         8|[-8.0,93.0,134.0,...|[-0.1696674411754...|\n",
      "|        140|     651|  1989| 24|         6|[140.0,651.0,1989...|[2.96918022057033...|\n",
      "|         35|     331|  1994| 32|         5|[35.0,331.0,1994....|[0.74229505514258...|\n",
      "|         35|     245|   438| 28|         3|[35.0,245.0,438.0...|[0.74229505514258...|\n",
      "|         59|     771|    31| 24|         1|[59.0,771.0,31.0,...|[1.25129737866892...|\n",
      "|         -7|      99|   157|  4|         6|[-7.0,99.0,157.0,...|[-0.1484590110285...|\n",
      "|         96|     506|   169| 26|         9|[96.0,506.0,169.0...|[2.03600929410537...|\n",
      "|          5|     459|   169| 19|         8|[5.0,459.0,169.0,...|[0.10604215073465...|\n",
      "|        100|     346|  1296| 15|         0|[100.0,346.0,1296...|[2.12084301469309...|\n",
      "|        116|     436|   539| 36|         9|[116.0,436.0,539....|[2.46017789704399...|\n",
      "|         86|     312|  1122| 38|         3|[86.0,312.0,1122....|[1.82392499263606...|\n",
      "|        142|     430|   228| 36|         4|[142.0,430.0,228....|[3.01159708086419...|\n",
      "|         97|     262|   245| 31|         7|[97.0,262.0,245.0...|[2.05721772425230...|\n",
      "|        150|     384|  1414| 19|         4|[150.0,384.0,1414...|[3.18126452203964...|\n",
      "|        137|     679|  1127| 44|         3|[137.0,679.0,1127...|[2.90555493012954...|\n",
      "|         99|     361|   316|  2|         3|[99.0,361.0,316.0...|[2.09963458454616...|\n",
      "+-----------+--------+------+---+----------+--------------------+--------------------+\n",
      "only showing top 20 rows\n",
      "\n"
     ]
    }
   ],
   "source": [
    "df_train.show()"
   ]
  },
  {
   "cell_type": "code",
   "execution_count": 24,
   "metadata": {},
   "outputs": [],
   "source": [
    "kmeans = KMeans().setK(2)\n",
    "model = kmeans.fit(df_train).transform(df_train)"
   ]
  },
  {
   "cell_type": "code",
   "execution_count": 25,
   "metadata": {},
   "outputs": [
    {
     "name": "stdout",
     "output_type": "stream",
     "text": [
      "+-----------+--------+------+---+----------+--------------------+--------------------+----------+\n",
      "|sugar_level|calories|weight|fat|food_color|      FeaturesVector|            features|prediction|\n",
      "+-----------+--------+------+---+----------+--------------------+--------------------+----------+\n",
      "|        145|     764|  1745| 46|         4|[145.0,764.0,1745...|[3.07522237130499...|         0|\n",
      "|         -4|     262|  1903| 24|         5|[-4.0,262.0,1903....|[-0.0848337205877...|         1|\n",
      "|         95|     448|  1539| 27|         9|[95.0,448.0,1539....|[2.01480086395844...|         0|\n",
      "|        100|     375|   746| 11|         9|[100.0,375.0,746....|[2.12084301469309...|         1|\n",
      "|         -8|      93|   134| 26|         8|[-8.0,93.0,134.0,...|[-0.1696674411754...|         1|\n",
      "|        140|     651|  1989| 24|         6|[140.0,651.0,1989...|[2.96918022057033...|         0|\n",
      "|         35|     331|  1994| 32|         5|[35.0,331.0,1994....|[0.74229505514258...|         1|\n",
      "|         35|     245|   438| 28|         3|[35.0,245.0,438.0...|[0.74229505514258...|         1|\n",
      "|         59|     771|    31| 24|         1|[59.0,771.0,31.0,...|[1.25129737866892...|         0|\n",
      "|         -7|      99|   157|  4|         6|[-7.0,99.0,157.0,...|[-0.1484590110285...|         1|\n",
      "|         96|     506|   169| 26|         9|[96.0,506.0,169.0...|[2.03600929410537...|         0|\n",
      "|          5|     459|   169| 19|         8|[5.0,459.0,169.0,...|[0.10604215073465...|         1|\n",
      "|        100|     346|  1296| 15|         0|[100.0,346.0,1296...|[2.12084301469309...|         1|\n",
      "|        116|     436|   539| 36|         9|[116.0,436.0,539....|[2.46017789704399...|         0|\n",
      "|         86|     312|  1122| 38|         3|[86.0,312.0,1122....|[1.82392499263606...|         0|\n",
      "|        142|     430|   228| 36|         4|[142.0,430.0,228....|[3.01159708086419...|         0|\n",
      "|         97|     262|   245| 31|         7|[97.0,262.0,245.0...|[2.05721772425230...|         0|\n",
      "|        150|     384|  1414| 19|         4|[150.0,384.0,1414...|[3.18126452203964...|         0|\n",
      "|        137|     679|  1127| 44|         3|[137.0,679.0,1127...|[2.90555493012954...|         0|\n",
      "|         99|     361|   316|  2|         3|[99.0,361.0,316.0...|[2.09963458454616...|         1|\n",
      "+-----------+--------+------+---+----------+--------------------+--------------------+----------+\n",
      "only showing top 20 rows\n",
      "\n"
     ]
    }
   ],
   "source": [
    "model.show()"
   ]
  },
  {
   "cell_type": "code",
   "execution_count": 26,
   "metadata": {},
   "outputs": [],
   "source": [
    "import matplotlib.pyplot as plt"
   ]
  },
  {
   "cell_type": "code",
   "execution_count": 27,
   "metadata": {},
   "outputs": [],
   "source": [
    "pandas = model.toPandas()"
   ]
  },
  {
   "cell_type": "code",
   "execution_count": 36,
   "metadata": {},
   "outputs": [
    {
     "data": {
      "image/png": "[encoded data removed]",
      "text/plain": [
       "<Figure size 432x288 with 1 Axes>"
      ]
     },
     "metadata": {
      "needs_background": "light"
     },
     "output_type": "display_data"
    }
   ],
   "source": [
    "plt.title(\"Clustering based on Calories & Fat\")\n",
    "plt.scatter(pandas[\"calories\"], pandas[\"fat\"], c=pandas[\"prediction\"])\n",
    "plt.xlabel(\"Calories\")\n",
    "plt.ylabel(\"Fat\")\n",
    "plt.show()"
   ]
  }
 ],
 "metadata": {
  "kernelspec": {
   "display_name": "Python 3",
   "language": "python",
   "name": "python3"
  },
  "language_info": {
   "codemirror_mode": {
    "name": "ipython",
    "version": 3
   },
   "file_extension": ".py",
   "mimetype": "text/x-python",
   "name": "python",
   "nbconvert_exporter": "python",
   "pygments_lexer": "ipython3",
   "version": "3.7.4"
  }
 },
 "nbformat": 4,
 "nbformat_minor": 2
}
